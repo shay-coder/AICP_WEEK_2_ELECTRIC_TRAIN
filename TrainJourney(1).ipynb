{
  "nbformat": 4,
  "nbformat_minor": 0,
  "metadata": {
    "colab": {
      "provenance": []
    },
    "kernelspec": {
      "name": "python3",
      "display_name": "Python 3"
    },
    "language_info": {
      "name": "python"
    }
  },
  "cells": [
    {
      "cell_type": "markdown",
      "source": [
        "An electric mountain railway makes four return trips every day. In each trip, the train\n",
        "goes up the mountain and back down. The train leaves from the foot of the mountain\n",
        "at 09:00, 11:00, 13:00, and 15:00. The train returns from the top of the mountain at\n",
        "10:00, 12:00, 14:00, and 16:00. Each train has six coaches with eighty seats available\n",
        "in each coach. Passengers can only purchase a return ticket; all tickets must be\n",
        "purchased on the day of travel. The cost is $25 for the journey up and $25 for the\n",
        "journey down. Groups of between ten and eighty passengers inclusive get a free ticket\n",
        "for every tenth passenger, provided they all travel together (every tenth passenger\n",
        "travels free). Passengers must book their return train journey, as well as the departure\n",
        "train journey when they purchase their ticket. Passengers can return on the next train\n",
        "down the mountain or a later train. The last train from the top\n",
        "of the mountain has two extra coaches on it."
      ],
      "metadata": {
        "id": "E0OD7qgrZHj5"
      }
    },
    {
      "cell_type": "markdown",
      "source": [
        "# **Task 1 – Start of the day.**\n",
        "Write a program to set up the screen display for the start of the day. Initialize suitable\n",
        "data structure(s) to total passengers for each train journey and total the money taken\n",
        "for each train journey. Each train journey must be totaled separately. There are four\n",
        "journeys up and four journeys down every day."
      ],
      "metadata": {
        "id": "TaSHCobGZO7f"
      }
    },
    {
      "cell_type": "code",
      "execution_count": 18,
      "metadata": {
        "colab": {
          "base_uri": "https://localhost:8080/"
        },
        "id": "h-IfVP-MYzO6",
        "outputId": "f9980c5d-37cf-419c-a8ae-a145b04c2393"
      },
      "outputs": [
        {
          "output_type": "stream",
          "name": "stdout",
          "text": [
            "\n",
            "Electric Railway - Start of the Day\n",
            "\n",
            "Journey Number:  1  Departure Hour:  09:00  Seats Available:  480\n",
            "Journey Number: 1 Departure Time 10:00  Seats Availble: 480\n",
            "Journey Number:  2  Departure Hour:  11:00  Seats Available:  480\n",
            "Journey Number: 2 Departure Time 12:00  Seats Availble: 480\n",
            "Journey Number:  3  Departure Hour:  13:00  Seats Available:  480\n",
            "Journey Number: 3 Departure Time 14:00  Seats Availble: 480\n",
            "Journey Number:  4  Departure Hour:  15:00  Seats Available:  480\n",
            "Journey Number: 4 Departure Time 16:00.   Seats Availble: 640\n"
          ]
        }
      ],
      "source": [
        "uptime = ['09:00', '11:00', '13:00', '15:00']\n",
        "dowtime = ['10:00', '12:00', '14:00', '16:00. ']\n",
        "upseats = [480,480,480,480]\n",
        "downseats =[480,480,480,640]\n",
        "\n",
        "\n",
        "# To keep track of passengers in train and total money collected\n",
        "DownPassengers = [0, 0, 0, 0]\n",
        "DownMoneyTotal = [0.0, 0.0, 0.0, 0.0]\n",
        "UpPassengers = [0, 0, 0, 0]\n",
        "UpMoneyTotal = [0.0, 0.0, 0.0, 0.0]\n",
        "\n",
        "\n",
        "def displayScreen():\n",
        "  print('\\nElectric Railway - Start of the Day\\n')\n",
        "\n",
        "  for index in range (0,4):\n",
        "    if upseats[index]!= 0:\n",
        "      print('Journey Number: ',index+1, ' Departure Hour: ', uptime[index], ' Seats Available: ', upseats[index] )\n",
        "    else:\n",
        "        print('Journey Number: ', index+1, ' Departure Hour: ', uptime[index], ' Closed' )\n",
        "\n",
        "    print(f\"Journey Number: {index+1} Departure Time {dowtime[index]}  Seats Availble: {downseats[index] if downseats[index] !=0 else 'Closed' }\")\n",
        "\n",
        "\n",
        "\n",
        "\n",
        "displayScreen()\n",
        "\n",
        "\n",
        "\n"
      ]
    },
    {
      "cell_type": "markdown",
      "source": [
        "# **Task 2 – Purchasing tickets.**\n",
        "Tickets can be purchased for a single passenger or a group. When making a purchase,\n",
        "check that the number of tickets for the required train journeys up and down the\n",
        "mountain is available. If the tickets are available, calculate the total price including\n",
        "any group discount. Update the screen display and the data for the totals."
      ],
      "metadata": {
        "id": "aHhpCyv_h46z"
      }
    },
    {
      "cell_type": "code",
      "source": [
        "OnewayTicket = 25.0\n",
        "user = input('Do you want to buy the tickets ? (yes or no) ')\n",
        "while user != \"yes\" and user != \"no\":\n",
        "  user = input(\"Invalid Input! Enter yes  or no: \")\n",
        "while user == 'yes':\n",
        "  print(\"\\n-----------------------\\n\")\n",
        "  UpTrip = int(input('Enter number of journey from 1 to 4: ')) - 1\n",
        "\n",
        "  print(\"\\n----- Return Hours Available -----\\n\")\n",
        "  for i in range(UpTrip,4):\n",
        "    print('Journey Number: ', i +1, 'Return Hours: ', dowtime[i], ' Remaining Seats: ',downseats[i])\n",
        "\n",
        "  DownTrip = int(input(\"\\nEnter Journey number for Return hour: \")) - 1\n",
        "\n",
        "  while DownTrip < UpTrip and DownTrip > 3:\n",
        "    DownTrip = int(input ('Please Enter Journey number from given list above: ')) - 1\n",
        "\n",
        "\n",
        "  # Now check number of passengers and if they get any discount\n",
        "\n",
        "  passengers = int(input('\\nEnter number of passengers for the trip: '))\n",
        "\n",
        "  # if no. of passengers are not valied\n",
        "  while passengers <= 0:\n",
        "    passengers = int(input('\\nPlease enter number graeter than 0:  '))\n",
        "\n",
        "  # Check seats for uptrip and downtrip\n",
        "\n",
        "  if passengers > upseats[UpTrip] or passengers > downseats[DownTrip]:\n",
        "    print('\\nSeats not available for chosen hours')\n",
        "    print(\"Please check the display below for available Seats =>\")\n",
        "\n",
        "  else:\n",
        "    print('\\nSeats Booked')\n",
        "\n",
        "  # Now apply discount for every 10th memeber in a group\n",
        "\n",
        "  if passengers >=10 and passengers <= 80:\n",
        "    FreeTickets =   passengers/10\n",
        "  else:\n",
        "    FreeTickets = 0\n",
        "\n",
        "  OneWayCost =  (passengers- FreeTickets) * OnewayTicket\n",
        "  # Cost for 2 way journey\n",
        "  print('Total price for whole journey: ', OneWayCost*2)\n",
        "\n",
        "  # Remove Seats from upseats and downseats beacuse they are booked\n",
        "  upseats[UpTrip] = upseats[UpTrip] - passengers\n",
        "  downseats[DownTrip] = downseats[DownTrip] - passengers\n",
        "\n",
        "\n",
        "  # add new passenegrs and money in tracking array\n",
        "  DownPassengers[DownTrip] = DownPassengers[DownTrip] + passengers\n",
        "  DownMoneyTotal[DownTrip] = DownMoneyTotal[DownTrip] + OneWayCost\n",
        "  UpPassengers[UpTrip] = UpPassengers[UpTrip] + passengers\n",
        "  UpMoneyTotal[UpTrip] = UpMoneyTotal[UpTrip] + OneWayCost\n",
        "\n",
        "\n",
        "  # Diplay updated screen\n",
        "\n",
        "  displayScreen()\n",
        "\n",
        "  user = input('\\nDo you want to buy the tickets ? (yes or no) ')\n",
        "  while user != \"yes\" and user != \"no\":\n",
        "        user = input(\"Invalid Input! Enter yes  or no: \")\n",
        "  if user == 'no':\n",
        "    print('\\n THANKS, HAVE A SAVE JOURNEY')\n",
        ""
      ],
      "metadata": {
        "colab": {
          "base_uri": "https://localhost:8080/"
        },
        "id": "W0nNeQ8SkjIu",
        "outputId": "99f3ede9-d5ef-4a82-c44a-0c2704464f42"
      },
      "execution_count": 19,
      "outputs": [
        {
          "output_type": "stream",
          "name": "stdout",
          "text": [
            "Do you want to buy the tickets ? (yes or no) yes#\n",
            "Invalid Input! Enter yes  or no: yes\n",
            "\n",
            "-----------------------\n",
            "\n",
            "Enter number of journey from 1 to 4: 2\n",
            "\n",
            "----- Return Hours Available -----\n",
            "\n",
            "Journey Number:  2 Return Hours:  12:00  Remaining Seats:  480\n",
            "Journey Number:  3 Return Hours:  14:00  Remaining Seats:  480\n",
            "Journey Number:  4 Return Hours:  16:00.   Remaining Seats:  640\n",
            "\n",
            "Enter Journey number for Return hour: 3\n",
            "\n",
            "Enter number of passengers for the trip: 30\n",
            "\n",
            "Seats Booked\n",
            "Total price for whole journey:  1350.0\n",
            "\n",
            "Electric Railway - Start of the Day\n",
            "\n",
            "Journey Number:  1  Departure Hour:  09:00  Seats Available:  480\n",
            "Journey Number: 1 Departure Time 10:00  Seats Availble: 480\n",
            "Journey Number:  2  Departure Hour:  11:00  Seats Available:  450\n",
            "Journey Number: 2 Departure Time 12:00  Seats Availble: 480\n",
            "Journey Number:  3  Departure Hour:  13:00  Seats Available:  480\n",
            "Journey Number: 3 Departure Time 14:00  Seats Availble: 450\n",
            "Journey Number:  4  Departure Hour:  15:00  Seats Available:  480\n",
            "Journey Number: 4 Departure Time 16:00.   Seats Availble: 640\n",
            "\n",
            "Do you want to buy the tickets ? (yes or no) no\n",
            "\n",
            " THANKS, HAVE A SAVE JOURNEY\n"
          ]
        }
      ]
    },
    {
      "cell_type": "markdown",
      "source": [
        "# **Task 3 – End of the day.**\n",
        "Display the number of passengers that traveled on each train journey and the total\n",
        "money taken for each train journey. Calculate and display the total number of\n",
        "passengers and the total amount of money taken for the day. Find and display the\n",
        "train journey with the most passengers that day."
      ],
      "metadata": {
        "id": "2emfQQKHxB6C"
      }
    },
    {
      "cell_type": "code",
      "source": [
        "\n",
        "print(\"\\n\")\n",
        "print(\" ------ END OF THE DAY ------ \")\n",
        "print(\"\\n\")\n",
        "for counti in range(0, 4):\n",
        "    print(\n",
        "        \"Journey No:\",\n",
        "        counti + 1,\n",
        "        \"\\t| Departure Hour:\",\n",
        "        uptime[counti],\n",
        "        \"\\t| Number of passengers:\",\n",
        "        UpPassengers[counti],\n",
        "        \"\\t| Total money: $\",\n",
        "        UpMoneyTotal[counti],\n",
        "        sep=\"\",\n",
        "    )\n",
        "    print(\n",
        "        \"Journey No:\",\n",
        "        counti + 1,\n",
        "        \"\\t| Return Hour:\",\n",
        "        dowtime[counti],\n",
        "        \"\\t| Number of passengers:\",\n",
        "        DownPassengers[counti],\n",
        "        \"\\t| Total money: $\",\n",
        "        DownMoneyTotal[counti],\n",
        "        sep=\"\",\n",
        "    )\n",
        "    print(\"\\n-----------------------\\n\")\n",
        "\n",
        "for index in range(0, 4):\n",
        "    TotalPassengers = TotalPassengers + UpPassengers[index]\n",
        "    TotalAmount = TotalAmount + (UpMoneyTotal[index] * 2)\n",
        "for count in range(0, 4):\n",
        "    if UpPassengers[count] > MostPassengers:\n",
        "        MostPassengers = UpPassengers[count]\n",
        "        MaxTrain = uptime[count]\n",
        "    if DownPassengers[count] > MostPassengers:\n",
        "        MostPassengers = DownPassengers[count]\n",
        "        MaxTrain = dowtime[count]\n",
        "\n",
        "\n",
        "print(\"Total money earned today: $\", TotalAmount, sep=\"\")\n",
        "print(\"Total passengers travelled today:\", TotalPassengers)\n",
        "print(\"The train journey with the highest number of passengers today:\", MaxTrain)\n",
        "input(\"Press Enter to Exit!\")"
      ],
      "metadata": {
        "colab": {
          "base_uri": "https://localhost:8080/",
          "height": 569
        },
        "id": "2VAcd94GkeOX",
        "outputId": "8dcd027b-ae78-4bec-d873-16c5b4b46a69"
      },
      "execution_count": 20,
      "outputs": [
        {
          "name": "stdout",
          "output_type": "stream",
          "text": [
            "\n",
            "\n",
            " ------ END OF THE DAY ------ \n",
            "\n",
            "\n",
            "Journey No:1\t| Departure Hour:09:00\t| Number of passengers:0\t| Total money: $0.0\n",
            "Journey No:1\t| Return Hour:10:00\t| Number of passengers:0\t| Total money: $0.0\n",
            "\n",
            "-----------------------\n",
            "\n",
            "Journey No:2\t| Departure Hour:11:00\t| Number of passengers:30\t| Total money: $675.0\n",
            "Journey No:2\t| Return Hour:12:00\t| Number of passengers:0\t| Total money: $0.0\n",
            "\n",
            "-----------------------\n",
            "\n",
            "Journey No:3\t| Departure Hour:13:00\t| Number of passengers:0\t| Total money: $0.0\n",
            "Journey No:3\t| Return Hour:14:00\t| Number of passengers:30\t| Total money: $675.0\n",
            "\n",
            "-----------------------\n",
            "\n",
            "Journey No:4\t| Departure Hour:15:00\t| Number of passengers:0\t| Total money: $0.0\n",
            "Journey No:4\t| Return Hour:16:00. \t| Number of passengers:0\t| Total money: $0.0\n",
            "\n",
            "-----------------------\n",
            "\n",
            "Total money earned today: $5445.0\n",
            "Total passengers travelled today: 121\n",
            "The train journey with the highest number of passengers today: 11:00\n",
            "Press Enter to Exit!\n"
          ]
        },
        {
          "output_type": "execute_result",
          "data": {
            "text/plain": [
              "''"
            ],
            "application/vnd.google.colaboratory.intrinsic+json": {
              "type": "string"
            }
          },
          "metadata": {},
          "execution_count": 20
        }
      ]
    },
    {
      "cell_type": "code",
      "source": [],
      "metadata": {
        "id": "-lOd-o1wx_mT"
      },
      "execution_count": null,
      "outputs": []
    }
  ]
}